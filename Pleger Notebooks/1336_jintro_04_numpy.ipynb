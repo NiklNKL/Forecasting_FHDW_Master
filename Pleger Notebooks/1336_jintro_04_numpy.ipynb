{
 "cells": [
  {
   "cell_type": "markdown",
   "id": "f0f403ae-42e7-4f93-a2c0-b46f19ff2115",
   "metadata": {},
   "source": [
    "# Part 4: Data Handling"
   ]
  },
  {
   "cell_type": "markdown",
   "id": "317ceab9-b988-4645-b347-930faa1d5a10",
   "metadata": {},
   "source": [
    "## Introduction Numpy\n",
    "\n",
    "There are many tutorials on Numpy on Pandas on Internet.\n",
    "\n",
    "Examples:\n",
    "\n",
    "* [NumpyPandas_course (2020), Bern](https://github.com/guiwitz/NumpyPandas_course/tree/master).\n",
    "* [NumPy and Pandas Tutorial](https://cloudxlab.com/blog/numpy-pandas-introduction/)\n",
    "* [Numpy and Pandas](https://faculty.washington.edu/otoomet/machinelearning-py/numpy-and-pandas.html)"
   ]
  },
  {
   "cell_type": "markdown",
   "id": "ead19c5e-e65b-4f92-887e-480a28fd4e4e",
   "metadata": {},
   "source": [
    "\n",
    "\n",
    "#  Creating Numpy arrays\n",
    "\n",
    "Python has many different types of data \"containers\": lists, dictionaries, tuples etc. However none of them allows for efficient numerical calculation, in particular not in multi-dimensional cases (think e.g. of operations on images). Numpy has been developed exactly to fill this gap. It provides a new data structure, the **numpy array**, and a large library of operations that allow to:\n",
    "\n",
    "* generate such arrays\n",
    "* combine arrays in different ways (concatenation, stacking etc.)\n",
    "* modify such arrays (projection, extraction of sub-arrays etc.)\n",
    "* apply mathematical operations on them\n",
    "\n",
    "Numpy is the base of almost the entire Python scientific programming stack. Many libraries build on top of Numpy, either by providing specialized functions to operate on them (e.g. scikit-image for image processing) or by creating more complex data containers on top of it. The data science library Pandas that will also be presented in this course is a good example of this with its dataframe structures.\n",
    "\n",
    "Example for Python list. It is versatile. But it is limited in matrix calculation processing and very slow."
   ]
  },
  {
   "cell_type": "code",
   "execution_count": 1,
   "id": "42b869b5-57c3-41c8-9582-8d588131b65d",
   "metadata": {},
   "outputs": [
    {
     "name": "stdout",
     "output_type": "stream",
     "text": [
      "sieben\n"
     ]
    },
    {
     "ename": "TypeError",
     "evalue": "list indices must be integers or slices, not tuple",
     "output_type": "error",
     "traceback": [
      "\u001b[1;31m---------------------------------------------------------------------------\u001b[0m",
      "\u001b[1;31mTypeError\u001b[0m                                 Traceback (most recent call last)",
      "Cell \u001b[1;32mIn[1], line 3\u001b[0m\n\u001b[0;32m      1\u001b[0m pythonlist \u001b[38;5;241m=\u001b[39m [[\u001b[38;5;241m1\u001b[39m, \u001b[38;5;124m'\u001b[39m\u001b[38;5;124m2\u001b[39m\u001b[38;5;124m'\u001b[39m, \u001b[38;5;241m3\u001b[39m, \u001b[38;5;124m'\u001b[39m\u001b[38;5;124motto\u001b[39m\u001b[38;5;124m'\u001b[39m, \u001b[38;5;241m5\u001b[39m], [\u001b[38;5;124m'\u001b[39m\u001b[38;5;124msecond list\u001b[39m\u001b[38;5;124m'\u001b[39m, \u001b[38;5;241m3\u001b[39m, \u001b[38;5;124m'\u001b[39m\u001b[38;5;124msieben\u001b[39m\u001b[38;5;124m'\u001b[39m]]\n\u001b[0;32m      2\u001b[0m \u001b[38;5;28mprint\u001b[39m(pythonlist[\u001b[38;5;241m1\u001b[39m][\u001b[38;5;241m2\u001b[39m])\n\u001b[1;32m----> 3\u001b[0m \u001b[43mpythonlist\u001b[49m\u001b[43m[\u001b[49m\u001b[38;5;241;43m1\u001b[39;49m\u001b[43m,\u001b[49m\u001b[38;5;241;43m2\u001b[39;49m\u001b[43m]\u001b[49m\n",
      "\u001b[1;31mTypeError\u001b[0m: list indices must be integers or slices, not tuple"
     ]
    }
   ],
   "source": [
    "pythonlist = [[1, '2', 3, 'otto', 5], ['second list', 3, 'sieben']]\n",
    "print(pythonlist[1][2])\n",
    "pythonlist[1,2]"
   ]
  },
  {
   "cell_type": "code",
   "execution_count": 2,
   "id": "83063825-f15c-4d43-87c6-5aa3c7a0e739",
   "metadata": {},
   "outputs": [
    {
     "ename": "ValueError",
     "evalue": "setting an array element with a sequence. The requested array has an inhomogeneous shape after 1 dimensions. The detected shape was (2,) + inhomogeneous part.",
     "output_type": "error",
     "traceback": [
      "\u001b[1;31m---------------------------------------------------------------------------\u001b[0m",
      "\u001b[1;31mValueError\u001b[0m                                Traceback (most recent call last)",
      "Cell \u001b[1;32mIn[2], line 2\u001b[0m\n\u001b[0;32m      1\u001b[0m \u001b[38;5;28;01mimport\u001b[39;00m \u001b[38;5;21;01mnumpy\u001b[39;00m \u001b[38;5;28;01mas\u001b[39;00m \u001b[38;5;21;01mnp\u001b[39;00m\n\u001b[1;32m----> 2\u001b[0m \u001b[43mnp\u001b[49m\u001b[38;5;241;43m.\u001b[39;49m\u001b[43marray\u001b[49m\u001b[43m(\u001b[49m\u001b[43mpythonlist\u001b[49m\u001b[43m)\u001b[49m\n",
      "\u001b[1;31mValueError\u001b[0m: setting an array element with a sequence. The requested array has an inhomogeneous shape after 1 dimensions. The detected shape was (2,) + inhomogeneous part."
     ]
    }
   ],
   "source": [
    "import numpy as np\n",
    "np.array(pythonlist)"
   ]
  },
  {
   "cell_type": "markdown",
   "id": "280ed06c-8458-4d84-8682-c4117ba32934",
   "metadata": {},
   "source": [
    "Numpy is for matrices with elements from same type. "
   ]
  },
  {
   "cell_type": "code",
   "execution_count": 3,
   "id": "80abd636-6461-4b0e-a917-b090c7a1111f",
   "metadata": {},
   "outputs": [
    {
     "name": "stdout",
     "output_type": "stream",
     "text": [
      "[[1, 2, 3, 4, 5], [10, 20, 30, 40, 50]]\n",
      "<class 'list'>\n"
     ]
    },
    {
     "data": {
      "text/plain": [
       "array([[ 1,  2,  3,  4,  5],\n",
       "       [10, 20, 30, 40, 50]])"
      ]
     },
     "metadata": {},
     "output_type": "display_data"
    },
    {
     "name": "stdout",
     "output_type": "stream",
     "text": [
      "<class 'numpy.ndarray'>\n"
     ]
    }
   ],
   "source": [
    "nlist = [[1, 2, 3, 4, 5], [10,20, 30, 40, 50 ]]\n",
    "print(nlist)\n",
    "print(type(nlist))\n",
    "nlist2 = np.array(nlist)\n",
    "display(nlist2)\n",
    "print(type(nlist2))"
   ]
  },
  {
   "cell_type": "code",
   "execution_count": 4,
   "id": "a3c2abdb-75ba-4cd4-8490-50c07bfab8bb",
   "metadata": {},
   "outputs": [
    {
     "data": {
      "text/plain": [
       "dtype('int32')"
      ]
     },
     "execution_count": 4,
     "metadata": {},
     "output_type": "execute_result"
    }
   ],
   "source": [
    "nlist2.dtype"
   ]
  },
  {
   "cell_type": "code",
   "execution_count": 5,
   "id": "4308d293-b3c5-4016-8b58-e62605014ce0",
   "metadata": {},
   "outputs": [
    {
     "name": "stdout",
     "output_type": "stream",
     "text": [
      "uint8\n",
      "float64\n"
     ]
    },
    {
     "data": {
      "text/plain": [
       "array([[ 1.,  2.,  3.,  4.,  5.],\n",
       "       [10., 20., 30., 40., 50.]])"
      ]
     },
     "execution_count": 5,
     "metadata": {},
     "output_type": "execute_result"
    }
   ],
   "source": [
    "nlist2 = nlist2.astype('uint8')\n",
    "print(nlist2.dtype)\n",
    "nlist2 = nlist2.astype(float)\n",
    "print(nlist2.dtype)\n",
    "nlist2"
   ]
  },
  {
   "cell_type": "code",
   "execution_count": 6,
   "id": "b87c7f55-7548-412e-a3e6-beac02399ef0",
   "metadata": {},
   "outputs": [
    {
     "data": {
      "text/plain": [
       "(2, 5)"
      ]
     },
     "execution_count": 6,
     "metadata": {},
     "output_type": "execute_result"
    }
   ],
   "source": [
    "nlist2.shape"
   ]
  },
  {
   "cell_type": "code",
   "execution_count": 7,
   "id": "559de6a3-b6fd-40e1-9650-f0600c07f9b0",
   "metadata": {},
   "outputs": [
    {
     "name": "stdout",
     "output_type": "stream",
     "text": [
      "(10,)\n"
     ]
    },
    {
     "data": {
      "text/plain": [
       "array([ 1.,  2.,  3.,  4.,  5., 10., 20., 30., 40., 50.])"
      ]
     },
     "execution_count": 7,
     "metadata": {},
     "output_type": "execute_result"
    }
   ],
   "source": [
    "nlist3 = nlist2.reshape(10)\n",
    "print(nlist3.shape)\n",
    "nlist3"
   ]
  },
  {
   "cell_type": "markdown",
   "id": "0ae9562f-80da-4c21-8de5-fbc922b8c1b5",
   "metadata": {},
   "source": [
    "Observe suble difference:"
   ]
  },
  {
   "cell_type": "code",
   "execution_count": 8,
   "id": "29ce7bcd-ddc6-4ec3-8d95-87b2870dd6ab",
   "metadata": {},
   "outputs": [
    {
     "name": "stdout",
     "output_type": "stream",
     "text": [
      "(1, 10)\n"
     ]
    },
    {
     "data": {
      "text/plain": [
       "array([[ 1.,  2.,  3.,  4.,  5., 10., 20., 30., 40., 50.]])"
      ]
     },
     "execution_count": 8,
     "metadata": {},
     "output_type": "execute_result"
    }
   ],
   "source": [
    "nlist4 = nlist2.reshape(1,10)\n",
    "print(nlist4.shape)\n",
    "nlist4"
   ]
  },
  {
   "cell_type": "markdown",
   "id": "8055b3a3-1bb2-4c5b-a4fa-8c4e2bbd99fb",
   "metadata": {},
   "source": [
    "Two different data types!\n",
    "\n",
    "Their existance has historical reasons. The type `np.matrix` was intended to reduce the confusion but it is not used in practice."
   ]
  },
  {
   "cell_type": "code",
   "execution_count": 9,
   "id": "fe556cc8-184f-4ce1-b1ff-6f22748b17ed",
   "metadata": {},
   "outputs": [
    {
     "ename": "TypeError",
     "evalue": "list indices must be integers or slices, not tuple",
     "output_type": "error",
     "traceback": [
      "\u001b[1;31m---------------------------------------------------------------------------\u001b[0m",
      "\u001b[1;31mTypeError\u001b[0m                                 Traceback (most recent call last)",
      "Cell \u001b[1;32mIn[9], line 1\u001b[0m\n\u001b[1;32m----> 1\u001b[0m \u001b[43mnlist\u001b[49m\u001b[43m[\u001b[49m\u001b[38;5;241;43m0\u001b[39;49m\u001b[43m,\u001b[49m\u001b[38;5;241;43m2\u001b[39;49m\u001b[43m:\u001b[49m\u001b[43m]\u001b[49m\n",
      "\u001b[1;31mTypeError\u001b[0m: list indices must be integers or slices, not tuple"
     ]
    }
   ],
   "source": [
    "nlist[0,2:]"
   ]
  },
  {
   "cell_type": "code",
   "execution_count": 10,
   "id": "c1b4eeff-7473-4d64-9dc2-b4b19ede63bb",
   "metadata": {},
   "outputs": [
    {
     "data": {
      "text/plain": [
       "array([3., 4., 5.])"
      ]
     },
     "execution_count": 10,
     "metadata": {},
     "output_type": "execute_result"
    }
   ],
   "source": [
    "nlist2[0,2:]"
   ]
  },
  {
   "cell_type": "code",
   "execution_count": 11,
   "id": "1022cf29-b906-4179-a64d-ce675dec38b0",
   "metadata": {},
   "outputs": [
    {
     "data": {
      "text/plain": [
       "array([3., 4., 5.])"
      ]
     },
     "execution_count": 11,
     "metadata": {},
     "output_type": "execute_result"
    }
   ],
   "source": [
    "nlist2[0,-3:]"
   ]
  },
  {
   "cell_type": "code",
   "execution_count": 12,
   "id": "3842a5a2-ea09-46b2-9bb2-719c25203bdd",
   "metadata": {},
   "outputs": [
    {
     "data": {
      "text/plain": [
       "array([[ 1.,  2.,  3.,  4.],\n",
       "       [10., 20., 30., 40.]])"
      ]
     },
     "execution_count": 12,
     "metadata": {},
     "output_type": "execute_result"
    }
   ],
   "source": [
    "nlist2[:,0:-1]"
   ]
  },
  {
   "cell_type": "code",
   "execution_count": 13,
   "id": "177f4413-96d5-4b54-86d1-fabf00e323dd",
   "metadata": {},
   "outputs": [
    {
     "data": {
      "text/plain": [
       "array([[0, 0, 0],\n",
       "       [0, 0, 0]])"
      ]
     },
     "execution_count": 13,
     "metadata": {},
     "output_type": "execute_result"
    }
   ],
   "source": [
    "za = np.zeros((2,3)).astype(int)\n",
    "za"
   ]
  },
  {
   "cell_type": "markdown",
   "id": "49370d9e-ca2c-46c4-81da-3808464157b5",
   "metadata": {},
   "source": [
    "Numpy has its own calculation rules. They follow more common sense than mathematical rules."
   ]
  },
  {
   "cell_type": "code",
   "execution_count": 14,
   "id": "d092a740-0a2b-411f-ad19-785164483e6b",
   "metadata": {},
   "outputs": [
    {
     "data": {
      "text/plain": [
       "array([[1, 1, 1],\n",
       "       [1, 1, 1]])"
      ]
     },
     "execution_count": 14,
     "metadata": {},
     "output_type": "execute_result"
    }
   ],
   "source": [
    "za + 1"
   ]
  },
  {
   "cell_type": "code",
   "execution_count": 15,
   "id": "e9324f63-9deb-48d2-9883-2f858045e5b3",
   "metadata": {},
   "outputs": [
    {
     "data": {
      "text/plain": [
       "array([[3, 3, 3],\n",
       "       [3, 3, 3]])"
      ]
     },
     "execution_count": 15,
     "metadata": {},
     "output_type": "execute_result"
    }
   ],
   "source": [
    "(za + 1) * 3"
   ]
  },
  {
   "cell_type": "code",
   "execution_count": 16,
   "id": "26d4e88a-64db-41a0-b7d7-967a1bf1be81",
   "metadata": {},
   "outputs": [
    {
     "data": {
      "text/plain": [
       "array([[0.33333333, 0.33333333, 0.33333333],\n",
       "       [0.33333333, 0.33333333, 0.33333333]])"
      ]
     },
     "execution_count": 16,
     "metadata": {},
     "output_type": "execute_result"
    }
   ],
   "source": [
    "(za + 1)/3"
   ]
  },
  {
   "cell_type": "code",
   "execution_count": 17,
   "id": "ac1a1431-37a8-4817-adf9-219cb8be2094",
   "metadata": {},
   "outputs": [
    {
     "data": {
      "text/plain": [
       "array([[1., 0., 0., 0., 0.],\n",
       "       [0., 1., 0., 0., 0.],\n",
       "       [0., 0., 1., 0., 0.],\n",
       "       [0., 0., 0., 1., 0.],\n",
       "       [0., 0., 0., 0., 1.]])"
      ]
     },
     "execution_count": 17,
     "metadata": {},
     "output_type": "execute_result"
    }
   ],
   "source": [
    "np.eye(5)"
   ]
  },
  {
   "cell_type": "code",
   "execution_count": 18,
   "id": "022e23b4-3a3a-404f-ac58-1e6b04c596eb",
   "metadata": {},
   "outputs": [
    {
     "data": {
      "text/plain": [
       "range(0, 3)"
      ]
     },
     "execution_count": 18,
     "metadata": {},
     "output_type": "execute_result"
    }
   ],
   "source": [
    "range(3)"
   ]
  },
  {
   "cell_type": "code",
   "execution_count": 19,
   "id": "8062db5e-ff35-4fed-aafc-89f46aa3a35a",
   "metadata": {},
   "outputs": [
    {
     "data": {
      "text/plain": [
       "[0, 1, 2]"
      ]
     },
     "execution_count": 19,
     "metadata": {},
     "output_type": "execute_result"
    }
   ],
   "source": [
    "list(range(3))"
   ]
  },
  {
   "cell_type": "code",
   "execution_count": 20,
   "id": "d9d305da-5c16-4a97-8633-7ac596ad1f99",
   "metadata": {},
   "outputs": [
    {
     "data": {
      "text/plain": [
       "array([0, 1, 2, 3])"
      ]
     },
     "execution_count": 20,
     "metadata": {},
     "output_type": "execute_result"
    }
   ],
   "source": [
    "np.arange(0,4,1)"
   ]
  },
  {
   "cell_type": "code",
   "execution_count": 21,
   "id": "7c41597e-01de-44b0-9e3f-f60834f3048d",
   "metadata": {},
   "outputs": [
    {
     "data": {
      "text/plain": [
       "array([0., 1., 2., 3.])"
      ]
     },
     "execution_count": 21,
     "metadata": {},
     "output_type": "execute_result"
    }
   ],
   "source": [
    "np.linspace(0,3,4)"
   ]
  },
  {
   "cell_type": "code",
   "execution_count": 22,
   "id": "9144d7af-cf43-4850-b2da-f2242a25aaea",
   "metadata": {},
   "outputs": [
    {
     "data": {
      "text/plain": [
       "array([0.        , 1.33333333, 2.66666667, 4.        ])"
      ]
     },
     "execution_count": 22,
     "metadata": {},
     "output_type": "execute_result"
    }
   ],
   "source": [
    "np.linspace(0,4,4)"
   ]
  },
  {
   "cell_type": "markdown",
   "id": "c890037a-c23d-4ad0-bc75-c726b41431cf",
   "metadata": {},
   "source": [
    "Random numbers: does not exist on deterministic computers.  \n",
    "Only pseudo - random generators.\n",
    "\n",
    "Initializing random generators:"
   ]
  },
  {
   "cell_type": "code",
   "execution_count": 23,
   "id": "0f4e43c3-7989-40f9-8ff0-0d34e99ee8f4",
   "metadata": {},
   "outputs": [],
   "source": [
    "rng = np.random.default_rng(42)\n",
    "rng2 = np.random.default_rng(43)"
   ]
  },
  {
   "cell_type": "code",
   "execution_count": 24,
   "id": "c93249ec-77e1-49e3-9562-69a7822357cf",
   "metadata": {},
   "outputs": [
    {
     "data": {
      "text/plain": [
       "array([[0.77395605, 0.43887844],\n",
       "       [0.85859792, 0.69736803],\n",
       "       [0.09417735, 0.97562235]])"
      ]
     },
     "execution_count": 24,
     "metadata": {},
     "output_type": "execute_result"
    }
   ],
   "source": [
    "rng.random((3,2))"
   ]
  },
  {
   "cell_type": "code",
   "execution_count": 25,
   "id": "987af778-5648-4030-b1e3-9378d5e2d1ca",
   "metadata": {},
   "outputs": [
    {
     "data": {
      "text/plain": [
       "array([[0.7611397 , 0.78606431],\n",
       "       [0.12811363, 0.45038594],\n",
       "       [0.37079802, 0.92676499]])"
      ]
     },
     "execution_count": 25,
     "metadata": {},
     "output_type": "execute_result"
    }
   ],
   "source": [
    "rng.random((3,2))"
   ]
  },
  {
   "cell_type": "code",
   "execution_count": 26,
   "id": "ecdf056b-bad5-4584-9b3d-e1b549078ccc",
   "metadata": {},
   "outputs": [
    {
     "data": {
      "text/plain": [
       "array([[0.77395605, 0.43887844],\n",
       "       [0.85859792, 0.69736803],\n",
       "       [0.09417735, 0.97562235]])"
      ]
     },
     "execution_count": 26,
     "metadata": {},
     "output_type": "execute_result"
    }
   ],
   "source": [
    "rng = np.random.default_rng(42)\n",
    "rng.random((3,2))"
   ]
  },
  {
   "cell_type": "code",
   "execution_count": 27,
   "id": "a0e49ed0-5590-4c06-ad86-ee54d4d362b4",
   "metadata": {},
   "outputs": [
    {
     "data": {
      "text/plain": [
       "array([ 0.1278404 , -0.31624259, -0.01680116, -0.85304393,  0.87939797,\n",
       "        0.77779194,  0.0660307 ,  1.12724121,  0.46750934, -0.85929246,\n",
       "        0.36875078, -0.9588826 ,  0.8784503 , -0.04992591, -0.18486236,\n",
       "       -0.68092954,  1.22254134, -0.15452948, -0.42832782, -0.35213355,\n",
       "        0.53230919,  0.36544406,  0.41273261,  0.430821  ,  2.1416476 ,\n",
       "       -0.40641502, -0.51224273, -0.81377273,  0.61597942,  1.12897229])"
      ]
     },
     "execution_count": 27,
     "metadata": {},
     "output_type": "execute_result"
    }
   ],
   "source": [
    "rng.normal(0,1,30)"
   ]
  },
  {
   "cell_type": "code",
   "execution_count": 28,
   "id": "4851f471-2bf3-4af9-b510-a005c3bbde75",
   "metadata": {},
   "outputs": [],
   "source": [
    "normaldata = rng.normal(0,1,30)\n",
    "\n",
    "# simple approach does not work. Wait for Pandas!\n",
    "\n",
    "# normaldata.hist()\n",
    "# save(normaldata)\n",
    "# load(normaldata)\n"
   ]
  },
  {
   "cell_type": "markdown",
   "id": "ab55be3c-d80b-447b-9f92-ef4b2f6f375d",
   "metadata": {},
   "source": [
    "### Images are arrays!\n",
    "\n",
    "This tutorial skips deeper understanding (eg: unsignet 8 bit integer format or [0..1] floating number, one or three or four layers for grey or color images; png, jpeg, tif... formats etc)."
   ]
  },
  {
   "cell_type": "code",
   "execution_count": 2,
   "id": "866bb009-7ad2-4dae-9997-6b410031304d",
   "metadata": {},
   "outputs": [
    {
     "data": {
      "text/plain": [
       "array([[255, 255, 255, ...,   0,   0,   0],\n",
       "       [255, 255, 255, ...,   0,   0,   0],\n",
       "       [255, 255, 255, ...,   0,   0,   0],\n",
       "       ...,\n",
       "       [  0,   0,   0, ..., 255,   0,   0],\n",
       "       [  0,   0,   0, ...,   0, 255,   0],\n",
       "       [  0,   0,   0, ...,   0,   0, 255]], dtype=uint8)"
      ]
     },
     "execution_count": 2,
     "metadata": {},
     "output_type": "execute_result"
    }
   ],
   "source": [
    "%reset -f\n",
    "\n",
    "import numpy as np\n",
    "import matplotlib.pyplot as plt\n",
    "import imageio.v3 as iio\n",
    "\n",
    "\n",
    "# Save an array as image...\n",
    "\n",
    "mylineimage = (np.eye(32)*255).astype('uint8')\n",
    "mylineimage[:10,:10]=255\n",
    "iio.imwrite('demoimage.png', mylineimage)\n",
    "mylineimage"
   ]
  },
  {
   "cell_type": "code",
   "execution_count": 5,
   "id": "0f53fb7e-a837-4ee3-b41a-c3bf910b759c",
   "metadata": {},
   "outputs": [
    {
     "data": {
      "text/plain": [
       "array([[255, 255, 255, ...,   0,   0,   0],\n",
       "       [255, 255, 255, ...,   0,   0,   0],\n",
       "       [255, 255, 255, ...,   0,   0,   0],\n",
       "       ...,\n",
       "       [  0,   0,   0, ..., 255,   0,   0],\n",
       "       [  0,   0,   0, ...,   0, 255,   0],\n",
       "       [  0,   0,   0, ...,   0,   0, 255]], dtype=uint8)"
      ]
     },
     "execution_count": 5,
     "metadata": {},
     "output_type": "execute_result"
    }
   ],
   "source": [
    "#... and reload image as array.\n",
    "\n",
    "myim2 = iio.imread('demoimage.png')\n",
    "myim2"
   ]
  },
  {
   "cell_type": "code",
   "execution_count": 6,
   "id": "bcd4007a-500d-40d8-9bf1-aa315a99be3d",
   "metadata": {},
   "outputs": [
    {
     "data": {
      "image/png": "[encoded data removed]",
      "text/plain": [
       "<Figure size 640x480 with 1 Axes>"
      ]
     },
     "metadata": {},
     "output_type": "display_data"
    }
   ],
   "source": [
    "# ... plot it.\n",
    "\n",
    "plt.imshow(myim2)\n",
    "plt.show()"
   ]
  },
  {
   "cell_type": "code",
   "execution_count": null,
   "id": "a809ee27-381b-4589-b784-7ea493e43f13",
   "metadata": {},
   "outputs": [],
   "source": []
  },
  {
   "cell_type": "code",
   "execution_count": null,
   "id": "51ffbd5f-9471-4c4d-af88-6cff7e4dbdf4",
   "metadata": {},
   "outputs": [],
   "source": []
  },
  {
   "cell_type": "code",
   "execution_count": null,
   "id": "9be5e9ab-690c-43fa-a18f-8c03fc072434",
   "metadata": {},
   "outputs": [],
   "source": []
  },
  {
   "cell_type": "code",
   "execution_count": null,
   "id": "06b93d39-3f22-4394-9844-1cf17738706a",
   "metadata": {},
   "outputs": [],
   "source": []
  },
  {
   "cell_type": "raw",
   "id": "009dc421-73d8-4a3e-b1cd-d5dcaf09d498",
   "metadata": {},
   "source": [
    "\n"
   ]
  }
 ],
 "metadata": {
  "kernelspec": {
   "display_name": "Python 3 (ipykernel)",
   "language": "python",
   "name": "python3"
  },
  "language_info": {
   "codemirror_mode": {
    "name": "ipython",
    "version": 3
   },
   "file_extension": ".py",
   "mimetype": "text/x-python",
   "name": "python",
   "nbconvert_exporter": "python",
   "pygments_lexer": "ipython3",
   "version": "3.10.12"
  }
 },
 "nbformat": 4,
 "nbformat_minor": 5
}
