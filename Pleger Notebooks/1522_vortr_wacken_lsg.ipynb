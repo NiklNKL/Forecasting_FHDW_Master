{
 "cells": [
  {
   "cell_type": "markdown",
   "id": "4ee84a97-dc2b-451d-bdf9-6f159d00c0cd",
   "metadata": {},
   "source": [
    "# Übung Wacken Zeitreihe (Lösung)\n",
    "\n",
    "Bitte interpretieren Sie den Datensat zum Wackenkornzert.\n",
    "\n",
    "Die Daten basieren auf den Angaben aus der Wikipedia. Die genauen Datumsangaben, Monat und Tag, sind geraten. Sie sollen für den Umgang mit Datumswerten sensibilisieren."
   ]
  },
  {
   "cell_type": "code",
   "execution_count": 54,
   "id": "d78c0fbb-8504-42b3-8c0b-c2cfec4c74f2",
   "metadata": {},
   "outputs": [
    {
     "data": {
      "text/html": [
       "<div>\n",
       "<style scoped>\n",
       "    .dataframe tbody tr th:only-of-type {\n",
       "        vertical-align: middle;\n",
       "    }\n",
       "\n",
       "    .dataframe tbody tr th {\n",
       "        vertical-align: top;\n",
       "    }\n",
       "\n",
       "    .dataframe thead th {\n",
       "        text-align: right;\n",
       "    }\n",
       "</style>\n",
       "<table border=\"1\" class=\"dataframe\">\n",
       "  <thead>\n",
       "    <tr style=\"text-align: right;\">\n",
       "      <th></th>\n",
       "      <th>Jahr</th>\n",
       "      <th>Datum</th>\n",
       "      <th>Bands</th>\n",
       "      <th>Teilnehmer</th>\n",
       "      <th>zahlende Besucher</th>\n",
       "      <th>Preis (EUR)</th>\n",
       "      <th>Ausverkauft (Tage)</th>\n",
       "    </tr>\n",
       "  </thead>\n",
       "  <tbody>\n",
       "    <tr>\n",
       "      <th>0</th>\n",
       "      <td>1990</td>\n",
       "      <td>8 September</td>\n",
       "      <td>6</td>\n",
       "      <td>800</td>\n",
       "      <td>NaN</td>\n",
       "      <td>6.14</td>\n",
       "      <td>NaN</td>\n",
       "    </tr>\n",
       "    <tr>\n",
       "      <th>1</th>\n",
       "      <td>1991</td>\n",
       "      <td>12 September</td>\n",
       "      <td>7</td>\n",
       "      <td>1300</td>\n",
       "      <td>NaN</td>\n",
       "      <td>7.67</td>\n",
       "      <td>NaN</td>\n",
       "    </tr>\n",
       "    <tr>\n",
       "      <th>2</th>\n",
       "      <td>1992</td>\n",
       "      <td>22 August</td>\n",
       "      <td>26</td>\n",
       "      <td>3500</td>\n",
       "      <td>NaN</td>\n",
       "      <td>17.90</td>\n",
       "      <td>NaN</td>\n",
       "    </tr>\n",
       "  </tbody>\n",
       "</table>\n",
       "</div>"
      ],
      "text/plain": [
       "   Jahr         Datum  Bands  Teilnehmer  zahlende Besucher  Preis (EUR)  \\\n",
       "0  1990   8 September      6         800                NaN         6.14   \n",
       "1  1991  12 September      7        1300                NaN         7.67   \n",
       "2  1992     22 August     26        3500                NaN        17.90   \n",
       "\n",
       "   Ausverkauft (Tage)  \n",
       "0                 NaN  \n",
       "1                 NaN  \n",
       "2                 NaN  "
      ]
     },
     "metadata": {},
     "output_type": "display_data"
    },
    {
     "name": "stdout",
     "output_type": "stream",
     "text": [
      "shape:  (33, 7)\n"
     ]
    }
   ],
   "source": [
    "%reset -f\n",
    "import pandas as pd\n",
    "import numpy as np\n",
    "import matplotlib.pyplot as plt\n",
    "\n",
    "fn = \"data/wacken.csv\"\n",
    "\n",
    "df = pd.read_csv(fn)\n",
    "display(df.head(3))\n",
    "print('shape: ', df.shape)"
   ]
  },
  {
   "cell_type": "markdown",
   "id": "b3c703d8-1342-492a-9f8d-67df7fa16859",
   "metadata": {},
   "source": [
    "Erste Rohdaten dank Matplotlib-Funktionalität von Pandas:"
   ]
  },
  {
   "cell_type": "code",
   "execution_count": 55,
   "id": "a09d7057-4b9e-4fba-80eb-1d303edf34a3",
   "metadata": {},
   "outputs": [
    {
     "data": {
      "text/plain": [
       "<AxesSubplot: >"
      ]
     },
     "execution_count": 55,
     "metadata": {},
     "output_type": "execute_result"
    },
    {
     "data": {
      "image/png": "[encoded data removed]",
      "text/plain": [
       "<Figure size 432x288 with 1 Axes>"
      ]
     },
     "metadata": {
      "needs_background": "light"
     },
     "output_type": "display_data"
    }
   ],
   "source": [
    "df.plot()"
   ]
  },
  {
   "cell_type": "markdown",
   "id": "4126f939-1dc1-4317-a529-7b943087aa7b",
   "metadata": {},
   "source": [
    "Gewünscht: x-Achse als Zeitachse. \n",
    "\n",
    "Zwischenschritte:\n",
    "\n",
    "* Umwandeln der Felder *Jahr* und *Datum*  in vollständiges Datum.\n",
    "* Anschließend Umwandeln der neuen Datumsattribute in Index.\n",
    "\n"
   ]
  },
  {
   "cell_type": "code",
   "execution_count": 56,
   "id": "f17ee47f-e7fb-4d5f-9ec4-680e1579f929",
   "metadata": {},
   "outputs": [
    {
     "name": "stdout",
     "output_type": "stream",
     "text": [
      "<class 'pandas.core.frame.DataFrame'>\n",
      "RangeIndex: 33 entries, 0 to 32\n",
      "Data columns (total 7 columns):\n",
      " #   Column              Non-Null Count  Dtype  \n",
      "---  ------              --------------  -----  \n",
      " 0   Jahr                33 non-null     int64  \n",
      " 1   Datum               33 non-null     object \n",
      " 2   Bands               33 non-null     int64  \n",
      " 3   Teilnehmer          33 non-null     int64  \n",
      " 4   zahlende Besucher   13 non-null     float64\n",
      " 5   Preis (EUR)         32 non-null     float64\n",
      " 6   Ausverkauft (Tage)  14 non-null     float64\n",
      "dtypes: float64(3), int64(3), object(1)\n",
      "memory usage: 1.9+ KB\n"
     ]
    }
   ],
   "source": [
    "df.info()"
   ]
  },
  {
   "cell_type": "markdown",
   "id": "84fd7872-92dc-4014-86d4-74d0195979b7",
   "metadata": {},
   "source": [
    "Ein gültiges Datenformat besteht aus Jahr, Monat und Tag.\n",
    "\n",
    "Eine Lösung: ` df['Datum'] + ' ' + df['Jahr'].apply(str)`\n",
    "\n",
    "Hier:"
   ]
  },
  {
   "cell_type": "code",
   "execution_count": 57,
   "id": "cff78273-e058-440c-b123-fe650f0ec995",
   "metadata": {},
   "outputs": [],
   "source": [
    "df['Jahr'] = df['Jahr'].astype(str)"
   ]
  },
  {
   "cell_type": "code",
   "execution_count": 58,
   "id": "38053cbd-cd0f-448b-8df7-0217df5a87ff",
   "metadata": {},
   "outputs": [
    {
     "name": "stdout",
     "output_type": "stream",
     "text": [
      "<class 'pandas.core.frame.DataFrame'>\n",
      "RangeIndex: 33 entries, 0 to 32\n",
      "Data columns (total 7 columns):\n",
      " #   Column              Non-Null Count  Dtype  \n",
      "---  ------              --------------  -----  \n",
      " 0   Jahr                33 non-null     object \n",
      " 1   Datum               33 non-null     object \n",
      " 2   Bands               33 non-null     int64  \n",
      " 3   Teilnehmer          33 non-null     int64  \n",
      " 4   zahlende Besucher   13 non-null     float64\n",
      " 5   Preis (EUR)         32 non-null     float64\n",
      " 6   Ausverkauft (Tage)  14 non-null     float64\n",
      "dtypes: float64(3), int64(2), object(2)\n",
      "memory usage: 1.9+ KB\n"
     ]
    }
   ],
   "source": [
    "df.info()"
   ]
  },
  {
   "cell_type": "code",
   "execution_count": 59,
   "id": "e2f50ef8-dc92-47ce-95b8-4e77e2d3c8ad",
   "metadata": {},
   "outputs": [
    {
     "data": {
      "text/html": [
       "<div>\n",
       "<style scoped>\n",
       "    .dataframe tbody tr th:only-of-type {\n",
       "        vertical-align: middle;\n",
       "    }\n",
       "\n",
       "    .dataframe tbody tr th {\n",
       "        vertical-align: top;\n",
       "    }\n",
       "\n",
       "    .dataframe thead th {\n",
       "        text-align: right;\n",
       "    }\n",
       "</style>\n",
       "<table border=\"1\" class=\"dataframe\">\n",
       "  <thead>\n",
       "    <tr style=\"text-align: right;\">\n",
       "      <th></th>\n",
       "      <th>Jahr</th>\n",
       "      <th>Datum</th>\n",
       "      <th>Bands</th>\n",
       "      <th>Teilnehmer</th>\n",
       "      <th>zahlende Besucher</th>\n",
       "      <th>Preis (EUR)</th>\n",
       "      <th>Ausverkauft (Tage)</th>\n",
       "      <th>Date</th>\n",
       "    </tr>\n",
       "  </thead>\n",
       "  <tbody>\n",
       "    <tr>\n",
       "      <th>0</th>\n",
       "      <td>1990</td>\n",
       "      <td>8 September</td>\n",
       "      <td>6</td>\n",
       "      <td>800</td>\n",
       "      <td>NaN</td>\n",
       "      <td>6.14</td>\n",
       "      <td>NaN</td>\n",
       "      <td>8 September 1990</td>\n",
       "    </tr>\n",
       "    <tr>\n",
       "      <th>1</th>\n",
       "      <td>1991</td>\n",
       "      <td>12 September</td>\n",
       "      <td>7</td>\n",
       "      <td>1300</td>\n",
       "      <td>NaN</td>\n",
       "      <td>7.67</td>\n",
       "      <td>NaN</td>\n",
       "      <td>12 September 1991</td>\n",
       "    </tr>\n",
       "    <tr>\n",
       "      <th>2</th>\n",
       "      <td>1992</td>\n",
       "      <td>22 August</td>\n",
       "      <td>26</td>\n",
       "      <td>3500</td>\n",
       "      <td>NaN</td>\n",
       "      <td>17.90</td>\n",
       "      <td>NaN</td>\n",
       "      <td>22 August 1992</td>\n",
       "    </tr>\n",
       "  </tbody>\n",
       "</table>\n",
       "</div>"
      ],
      "text/plain": [
       "   Jahr         Datum  Bands  Teilnehmer  zahlende Besucher  Preis (EUR)  \\\n",
       "0  1990   8 September      6         800                NaN         6.14   \n",
       "1  1991  12 September      7        1300                NaN         7.67   \n",
       "2  1992     22 August     26        3500                NaN        17.90   \n",
       "\n",
       "   Ausverkauft (Tage)               Date  \n",
       "0                 NaN   8 September 1990  \n",
       "1                 NaN  12 September 1991  \n",
       "2                 NaN     22 August 1992  "
      ]
     },
     "execution_count": 59,
     "metadata": {},
     "output_type": "execute_result"
    }
   ],
   "source": [
    "df['Date'] =  df['Datum'] + ' ' + df['Jahr']\n",
    "df.head(3)"
   ]
  },
  {
   "cell_type": "markdown",
   "id": "4efbe7eb-f4ca-4159-9095-e5fc6b63dfba",
   "metadata": {
    "tags": []
   },
   "source": [
    "### Einschub: Zeit-Datentyp\n",
    "\n",
    "datetime: date, datetime, time, timedelta etc\n",
    "\n"
   ]
  },
  {
   "cell_type": "code",
   "execution_count": 60,
   "id": "b379a35a-4cd5-47ef-bc76-bebb13f54cf5",
   "metadata": {},
   "outputs": [
    {
     "data": {
      "text/plain": [
       "'2022-01-01T13:45:17'"
      ]
     },
     "execution_count": 60,
     "metadata": {},
     "output_type": "execute_result"
    }
   ],
   "source": [
    "from datetime import date\n",
    "from datetime import datetime\n",
    "from datetime import timedelta\n",
    "\n",
    "today = date.today()\n",
    "otherday = date(2022, 1, 1)\n",
    "otherday_time= datetime(2022,1,1, 13,45,17) #17.3)\n",
    "otherday_time.isoformat()"
   ]
  },
  {
   "cell_type": "code",
   "execution_count": 61,
   "id": "9d3fe14c-7059-4b16-adfe-f30fd8731cb9",
   "metadata": {},
   "outputs": [
    {
     "data": {
      "text/plain": [
       "datetime.datetime(2022, 1, 4, 14, 5, 17)"
      ]
     },
     "execution_count": 61,
     "metadata": {},
     "output_type": "execute_result"
    }
   ],
   "source": [
    "# datetime.timedelta(days=0, seconds=0, microseconds=0, \n",
    "# milliseconds=0, minutes=0, hours=0, weeks=0)\n",
    "otherday_time + timedelta(1)\n",
    "otherday_time + timedelta(3)\n",
    "otherday_time + timedelta(days = 3, minutes = 20)"
   ]
  },
  {
   "cell_type": "code",
   "execution_count": 62,
   "id": "f04d986d-af3c-4595-8cb5-9c4d8fe6ee48",
   "metadata": {},
   "outputs": [
    {
     "data": {
      "text/plain": [
       "'Saturday 01. January 2022'"
      ]
     },
     "execution_count": 62,
     "metadata": {},
     "output_type": "execute_result"
    }
   ],
   "source": [
    "otherday_time.strftime(\"%A %d. %B %Y\")"
   ]
  },
  {
   "cell_type": "code",
   "execution_count": 63,
   "id": "560d2d4e-d0d4-4590-962a-0ad657d0cd23",
   "metadata": {},
   "outputs": [
    {
     "data": {
      "text/plain": [
       "'01 01 22 - 2022-01-01 13:45'"
      ]
     },
     "execution_count": 63,
     "metadata": {},
     "output_type": "execute_result"
    }
   ],
   "source": [
    "otherday_time.strftime(\"%d %m %y - %Y-%m-%d %H:%M\")"
   ]
  },
  {
   "cell_type": "code",
   "execution_count": 64,
   "id": "5640a71b-ee79-4ffe-a7b5-13a8ee31eca2",
   "metadata": {},
   "outputs": [
    {
     "data": {
      "text/plain": [
       "datetime.datetime(2001, 6, 3, 0, 0)"
      ]
     },
     "execution_count": 64,
     "metadata": {},
     "output_type": "execute_result"
    }
   ],
   "source": [
    "datetime.strptime('3.6.2001', '%d.%m.%Y')"
   ]
  },
  {
   "cell_type": "markdown",
   "id": "4c16fc84-107a-4c2d-a067-2a261d5b9746",
   "metadata": {},
   "source": [
    "### Datumsformate mit Pandas\n",
    "\n",
    "Intern rechnet Pandas im Format datetime64\\[ns\\].\n",
    "Es kennt kein strptime, dafür to_datetime"
   ]
  },
  {
   "cell_type": "code",
   "execution_count": 65,
   "id": "52489c1c-fffa-4ca2-be92-fa79e671a7fd",
   "metadata": {},
   "outputs": [],
   "source": []
  },
  {
   "cell_type": "code",
   "execution_count": 66,
   "id": "48fbfb45-1b16-4091-9c1e-0773615a0c56",
   "metadata": {},
   "outputs": [
    {
     "data": {
      "text/html": [
       "<div>\n",
       "<style scoped>\n",
       "    .dataframe tbody tr th:only-of-type {\n",
       "        vertical-align: middle;\n",
       "    }\n",
       "\n",
       "    .dataframe tbody tr th {\n",
       "        vertical-align: top;\n",
       "    }\n",
       "\n",
       "    .dataframe thead th {\n",
       "        text-align: right;\n",
       "    }\n",
       "</style>\n",
       "<table border=\"1\" class=\"dataframe\">\n",
       "  <thead>\n",
       "    <tr style=\"text-align: right;\">\n",
       "      <th></th>\n",
       "      <th>Jahr</th>\n",
       "      <th>Datum</th>\n",
       "      <th>Bands</th>\n",
       "      <th>Teilnehmer</th>\n",
       "      <th>zahlende Besucher</th>\n",
       "      <th>Preis (EUR)</th>\n",
       "      <th>Ausverkauft (Tage)</th>\n",
       "      <th>Date</th>\n",
       "    </tr>\n",
       "  </thead>\n",
       "  <tbody>\n",
       "    <tr>\n",
       "      <th>0</th>\n",
       "      <td>1990</td>\n",
       "      <td>8 September</td>\n",
       "      <td>6</td>\n",
       "      <td>800</td>\n",
       "      <td>NaN</td>\n",
       "      <td>6.14</td>\n",
       "      <td>NaN</td>\n",
       "      <td>8 September 1990</td>\n",
       "    </tr>\n",
       "    <tr>\n",
       "      <th>1</th>\n",
       "      <td>1991</td>\n",
       "      <td>12 September</td>\n",
       "      <td>7</td>\n",
       "      <td>1300</td>\n",
       "      <td>NaN</td>\n",
       "      <td>7.67</td>\n",
       "      <td>NaN</td>\n",
       "      <td>12 September 1991</td>\n",
       "    </tr>\n",
       "    <tr>\n",
       "      <th>2</th>\n",
       "      <td>1992</td>\n",
       "      <td>22 August</td>\n",
       "      <td>26</td>\n",
       "      <td>3500</td>\n",
       "      <td>NaN</td>\n",
       "      <td>17.90</td>\n",
       "      <td>NaN</td>\n",
       "      <td>22 August 1992</td>\n",
       "    </tr>\n",
       "    <tr>\n",
       "      <th>3</th>\n",
       "      <td>1993</td>\n",
       "      <td>4 April</td>\n",
       "      <td>32</td>\n",
       "      <td>3500</td>\n",
       "      <td>NaN</td>\n",
       "      <td>23.01</td>\n",
       "      <td>NaN</td>\n",
       "      <td>4 April 1993</td>\n",
       "    </tr>\n",
       "    <tr>\n",
       "      <th>4</th>\n",
       "      <td>1994</td>\n",
       "      <td>10 May</td>\n",
       "      <td>29</td>\n",
       "      <td>4500</td>\n",
       "      <td>NaN</td>\n",
       "      <td>19.94</td>\n",
       "      <td>NaN</td>\n",
       "      <td>10 May 1994</td>\n",
       "    </tr>\n",
       "  </tbody>\n",
       "</table>\n",
       "</div>"
      ],
      "text/plain": [
       "   Jahr         Datum  Bands  Teilnehmer  zahlende Besucher  Preis (EUR)  \\\n",
       "0  1990   8 September      6         800                NaN         6.14   \n",
       "1  1991  12 September      7        1300                NaN         7.67   \n",
       "2  1992     22 August     26        3500                NaN        17.90   \n",
       "3  1993       4 April     32        3500                NaN        23.01   \n",
       "4  1994        10 May     29        4500                NaN        19.94   \n",
       "\n",
       "   Ausverkauft (Tage)               Date  \n",
       "0                 NaN   8 September 1990  \n",
       "1                 NaN  12 September 1991  \n",
       "2                 NaN     22 August 1992  \n",
       "3                 NaN       4 April 1993  \n",
       "4                 NaN        10 May 1994  "
      ]
     },
     "execution_count": 66,
     "metadata": {},
     "output_type": "execute_result"
    }
   ],
   "source": [
    "df.head()"
   ]
  },
  {
   "cell_type": "code",
   "execution_count": 67,
   "id": "1f2a24ea-f4d9-4e78-b460-938cacef67ac",
   "metadata": {},
   "outputs": [
    {
     "data": {
      "text/html": [
       "<div>\n",
       "<style scoped>\n",
       "    .dataframe tbody tr th:only-of-type {\n",
       "        vertical-align: middle;\n",
       "    }\n",
       "\n",
       "    .dataframe tbody tr th {\n",
       "        vertical-align: top;\n",
       "    }\n",
       "\n",
       "    .dataframe thead th {\n",
       "        text-align: right;\n",
       "    }\n",
       "</style>\n",
       "<table border=\"1\" class=\"dataframe\">\n",
       "  <thead>\n",
       "    <tr style=\"text-align: right;\">\n",
       "      <th></th>\n",
       "      <th>Date</th>\n",
       "      <th>Date2</th>\n",
       "    </tr>\n",
       "  </thead>\n",
       "  <tbody>\n",
       "    <tr>\n",
       "      <th>0</th>\n",
       "      <td>8 September 1990</td>\n",
       "      <td>1990-09-08</td>\n",
       "    </tr>\n",
       "    <tr>\n",
       "      <th>1</th>\n",
       "      <td>12 September 1991</td>\n",
       "      <td>1991-09-12</td>\n",
       "    </tr>\n",
       "    <tr>\n",
       "      <th>2</th>\n",
       "      <td>22 August 1992</td>\n",
       "      <td>1992-08-22</td>\n",
       "    </tr>\n",
       "  </tbody>\n",
       "</table>\n",
       "</div>"
      ],
      "text/plain": [
       "                Date      Date2\n",
       "0   8 September 1990 1990-09-08\n",
       "1  12 September 1991 1991-09-12\n",
       "2     22 August 1992 1992-08-22"
      ]
     },
     "execution_count": 67,
     "metadata": {},
     "output_type": "execute_result"
    }
   ],
   "source": [
    "df['Date2'] = pd.to_datetime(df['Date'], format='%d %B %Y')\n",
    "df[['Date','Date2']].head(3)"
   ]
  },
  {
   "cell_type": "code",
   "execution_count": 68,
   "id": "928a2dde-8da6-4250-9687-acb2e9dbb69a",
   "metadata": {},
   "outputs": [
    {
     "name": "stdout",
     "output_type": "stream",
     "text": [
      "<class 'pandas.core.frame.DataFrame'>\n",
      "RangeIndex: 33 entries, 0 to 32\n",
      "Data columns (total 9 columns):\n",
      " #   Column              Non-Null Count  Dtype         \n",
      "---  ------              --------------  -----         \n",
      " 0   Jahr                33 non-null     object        \n",
      " 1   Datum               33 non-null     object        \n",
      " 2   Bands               33 non-null     int64         \n",
      " 3   Teilnehmer          33 non-null     int64         \n",
      " 4   zahlende Besucher   13 non-null     float64       \n",
      " 5   Preis (EUR)         32 non-null     float64       \n",
      " 6   Ausverkauft (Tage)  14 non-null     float64       \n",
      " 7   Date                33 non-null     object        \n",
      " 8   Date2               33 non-null     datetime64[ns]\n",
      "dtypes: datetime64[ns](1), float64(3), int64(2), object(3)\n",
      "memory usage: 2.4+ KB\n"
     ]
    }
   ],
   "source": [
    "df.info()"
   ]
  },
  {
   "cell_type": "markdown",
   "id": "21440ef0-0c1f-49ca-bdc9-05a13ca8f576",
   "metadata": {},
   "source": [
    "Datenformat in Nanosekunden:\n",
    "\n",
    "1 ns = 1e-9 sec\n",
    "\n",
    "64 bit: 2 ** 64 = \n",
    "\n",
    "Wie viele Jahre lassen sich in Nanosekunden ausdrücken?\n",
    "\n",
    "1ns * 2 ** 64 / (1e9 ns * 3600 sec * 24 h * 365 days)\n",
    "\n",
    "1 * 2 ** 64 / (1e9 * 3600 * 24 * 365)\n",
    "\n",
    "Bezugspunkt: 1.1.1970"
   ]
  },
  {
   "cell_type": "code",
   "execution_count": 69,
   "id": "73b71c90-f512-4508-bcd8-5587ea82022b",
   "metadata": {},
   "outputs": [
    {
     "name": "stdout",
     "output_type": "stream",
     "text": [
      "2**64 Nanosekunden: 1.84467e+19\n",
      "In Jahren: 584.942\n"
     ]
    }
   ],
   "source": [
    "print(f'2**64 Nanosekunden: {2**64:2g}')\n",
    "print(f'In Jahren: {1 * 2**64 / (10**9 * 3600 * 24 * 365):3g}')\n"
   ]
  },
  {
   "cell_type": "code",
   "execution_count": 70,
   "id": "16928ce7-38df-4a2d-9c22-8907db50aa7f",
   "metadata": {},
   "outputs": [
    {
     "data": {
      "text/html": [
       "<div>\n",
       "<style scoped>\n",
       "    .dataframe tbody tr th:only-of-type {\n",
       "        vertical-align: middle;\n",
       "    }\n",
       "\n",
       "    .dataframe tbody tr th {\n",
       "        vertical-align: top;\n",
       "    }\n",
       "\n",
       "    .dataframe thead th {\n",
       "        text-align: right;\n",
       "    }\n",
       "</style>\n",
       "<table border=\"1\" class=\"dataframe\">\n",
       "  <thead>\n",
       "    <tr style=\"text-align: right;\">\n",
       "      <th></th>\n",
       "      <th>Date</th>\n",
       "      <th>Date2</th>\n",
       "    </tr>\n",
       "  </thead>\n",
       "  <tbody>\n",
       "    <tr>\n",
       "      <th>0</th>\n",
       "      <td>8 September 1990</td>\n",
       "      <td>1990-09-08</td>\n",
       "    </tr>\n",
       "    <tr>\n",
       "      <th>1</th>\n",
       "      <td>12 September 1991</td>\n",
       "      <td>1991-09-12</td>\n",
       "    </tr>\n",
       "    <tr>\n",
       "      <th>2</th>\n",
       "      <td>22 August 1992</td>\n",
       "      <td>1992-08-22</td>\n",
       "    </tr>\n",
       "  </tbody>\n",
       "</table>\n",
       "</div>"
      ],
      "text/plain": [
       "                Date      Date2\n",
       "0   8 September 1990 1990-09-08\n",
       "1  12 September 1991 1991-09-12\n",
       "2     22 August 1992 1992-08-22"
      ]
     },
     "execution_count": 70,
     "metadata": {},
     "output_type": "execute_result"
    }
   ],
   "source": [
    "df['Date2'] = pd.to_datetime(df['Date']) #, format='%d %B %Y')\n",
    "df[['Date','Date2']].head(3)"
   ]
  },
  {
   "cell_type": "code",
   "execution_count": 71,
   "id": "528bec73-3041-4b4b-9333-e6318fb699e9",
   "metadata": {},
   "outputs": [
    {
     "data": {
      "text/plain": [
       "DatetimeIndex(['2001-01-01', '2001-01-02', '2001-01-03', '2001-01-04',\n",
       "               '2001-01-05', '2001-01-06', '2001-01-07', '2001-01-08',\n",
       "               '2001-01-09', '2001-01-10',\n",
       "               ...\n",
       "               '2002-02-26', '2002-02-27', '2002-02-28', '2002-03-01',\n",
       "               '2002-03-02', '2002-03-03', '2002-03-04', '2002-03-05',\n",
       "               '2002-03-06', '2002-03-07'],\n",
       "              dtype='datetime64[ns]', length=431, freq='D')"
      ]
     },
     "execution_count": 71,
     "metadata": {},
     "output_type": "execute_result"
    }
   ],
   "source": [
    "# date range\n",
    "\n",
    "pd.date_range(start = '2001', end = '2002-03-07') #, freq = 'm')"
   ]
  },
  {
   "cell_type": "code",
   "execution_count": null,
   "id": "e21edfb2-0db3-4337-a379-85c9f2cbf49a",
   "metadata": {},
   "outputs": [],
   "source": []
  },
  {
   "cell_type": "code",
   "execution_count": 72,
   "id": "a77bfe45-6f4f-490a-b488-af3e892a3797",
   "metadata": {},
   "outputs": [
    {
     "data": {
      "text/plain": [
       "0   1990-09-08\n",
       "1   1991-09-12\n",
       "2   1992-08-22\n",
       "3   1993-04-04\n",
       "4   1994-05-10\n",
       "Name: Date2, dtype: datetime64[ns]"
      ]
     },
     "execution_count": 72,
     "metadata": {},
     "output_type": "execute_result"
    }
   ],
   "source": [
    "df['Date2'][:5]"
   ]
  },
  {
   "cell_type": "code",
   "execution_count": 73,
   "id": "87966a38-cc67-46e7-a936-3ea379a808fa",
   "metadata": {},
   "outputs": [
    {
     "data": {
      "text/plain": [
       "0    652752000000000000\n",
       "1    684633600000000000\n",
       "2    714441600000000000\n",
       "3    733881600000000000\n",
       "4    768528000000000000\n",
       "Name: Date2, dtype: int64"
      ]
     },
     "execution_count": 73,
     "metadata": {},
     "output_type": "execute_result"
    }
   ],
   "source": [
    "df['Date2'].astype(int)[:5]"
   ]
  },
  {
   "cell_type": "code",
   "execution_count": 75,
   "id": "b18a8de4-a660-4560-97c0-98c7332ecab4",
   "metadata": {},
   "outputs": [
    {
     "data": {
      "text/html": [
       "<div>\n",
       "<style scoped>\n",
       "    .dataframe tbody tr th:only-of-type {\n",
       "        vertical-align: middle;\n",
       "    }\n",
       "\n",
       "    .dataframe tbody tr th {\n",
       "        vertical-align: top;\n",
       "    }\n",
       "\n",
       "    .dataframe thead th {\n",
       "        text-align: right;\n",
       "    }\n",
       "</style>\n",
       "<table border=\"1\" class=\"dataframe\">\n",
       "  <thead>\n",
       "    <tr style=\"text-align: right;\">\n",
       "      <th></th>\n",
       "      <th>Bands</th>\n",
       "      <th>Teilnehmer</th>\n",
       "      <th>zahlende Besucher</th>\n",
       "      <th>Preis (EUR)</th>\n",
       "      <th>Ausverkauft (Tage)</th>\n",
       "    </tr>\n",
       "    <tr>\n",
       "      <th>Date2</th>\n",
       "      <th></th>\n",
       "      <th></th>\n",
       "      <th></th>\n",
       "      <th></th>\n",
       "      <th></th>\n",
       "    </tr>\n",
       "  </thead>\n",
       "  <tbody>\n",
       "    <tr>\n",
       "      <th>1990-09-08</th>\n",
       "      <td>6</td>\n",
       "      <td>800</td>\n",
       "      <td>NaN</td>\n",
       "      <td>6.14</td>\n",
       "      <td>NaN</td>\n",
       "    </tr>\n",
       "    <tr>\n",
       "      <th>1991-09-12</th>\n",
       "      <td>7</td>\n",
       "      <td>1300</td>\n",
       "      <td>NaN</td>\n",
       "      <td>7.67</td>\n",
       "      <td>NaN</td>\n",
       "    </tr>\n",
       "    <tr>\n",
       "      <th>1992-08-22</th>\n",
       "      <td>26</td>\n",
       "      <td>3500</td>\n",
       "      <td>NaN</td>\n",
       "      <td>17.90</td>\n",
       "      <td>NaN</td>\n",
       "    </tr>\n",
       "  </tbody>\n",
       "</table>\n",
       "</div>"
      ],
      "text/plain": [
       "            Bands  Teilnehmer  zahlende Besucher  Preis (EUR)  \\\n",
       "Date2                                                           \n",
       "1990-09-08      6         800                NaN         6.14   \n",
       "1991-09-12      7        1300                NaN         7.67   \n",
       "1992-08-22     26        3500                NaN        17.90   \n",
       "\n",
       "            Ausverkauft (Tage)  \n",
       "Date2                           \n",
       "1990-09-08                 NaN  \n",
       "1991-09-12                 NaN  \n",
       "1992-08-22                 NaN  "
      ]
     },
     "execution_count": 75,
     "metadata": {},
     "output_type": "execute_result"
    }
   ],
   "source": [
    "dg = df.copy()\n",
    "dg = dg.set_index('Date2')\n",
    "dg = dg.drop(['Datum', 'Jahr', 'Date'], axis = 1)\n",
    "dg.head(3)"
   ]
  },
  {
   "cell_type": "code",
   "execution_count": 76,
   "id": "5ff4e87f-b01c-4cfc-8df4-7c238d3da5f8",
   "metadata": {},
   "outputs": [
    {
     "name": "stdout",
     "output_type": "stream",
     "text": [
      "(33, 5)\n"
     ]
    },
    {
     "data": {
      "text/html": [
       "<div>\n",
       "<style scoped>\n",
       "    .dataframe tbody tr th:only-of-type {\n",
       "        vertical-align: middle;\n",
       "    }\n",
       "\n",
       "    .dataframe tbody tr th {\n",
       "        vertical-align: top;\n",
       "    }\n",
       "\n",
       "    .dataframe thead th {\n",
       "        text-align: right;\n",
       "    }\n",
       "</style>\n",
       "<table border=\"1\" class=\"dataframe\">\n",
       "  <thead>\n",
       "    <tr style=\"text-align: right;\">\n",
       "      <th></th>\n",
       "      <th>Bands</th>\n",
       "      <th>Teilnehmer</th>\n",
       "      <th>zahlende Besucher</th>\n",
       "      <th>Preis (EUR)</th>\n",
       "      <th>Ausverkauft (Tage)</th>\n",
       "    </tr>\n",
       "    <tr>\n",
       "      <th>Date2</th>\n",
       "      <th></th>\n",
       "      <th></th>\n",
       "      <th></th>\n",
       "      <th></th>\n",
       "      <th></th>\n",
       "    </tr>\n",
       "  </thead>\n",
       "  <tbody>\n",
       "    <tr>\n",
       "      <th>1990-12-31</th>\n",
       "      <td>6</td>\n",
       "      <td>800</td>\n",
       "      <td>NaN</td>\n",
       "      <td>6.14</td>\n",
       "      <td>NaN</td>\n",
       "    </tr>\n",
       "    <tr>\n",
       "      <th>1991-12-31</th>\n",
       "      <td>7</td>\n",
       "      <td>1300</td>\n",
       "      <td>NaN</td>\n",
       "      <td>7.67</td>\n",
       "      <td>NaN</td>\n",
       "    </tr>\n",
       "    <tr>\n",
       "      <th>1992-12-31</th>\n",
       "      <td>26</td>\n",
       "      <td>3500</td>\n",
       "      <td>NaN</td>\n",
       "      <td>17.90</td>\n",
       "      <td>NaN</td>\n",
       "    </tr>\n",
       "  </tbody>\n",
       "</table>\n",
       "</div>"
      ],
      "text/plain": [
       "            Bands  Teilnehmer  zahlende Besucher  Preis (EUR)  \\\n",
       "Date2                                                           \n",
       "1990-12-31      6         800                NaN         6.14   \n",
       "1991-12-31      7        1300                NaN         7.67   \n",
       "1992-12-31     26        3500                NaN        17.90   \n",
       "\n",
       "            Ausverkauft (Tage)  \n",
       "Date2                           \n",
       "1990-12-31                 NaN  \n",
       "1991-12-31                 NaN  \n",
       "1992-12-31                 NaN  "
      ]
     },
     "execution_count": 76,
     "metadata": {},
     "output_type": "execute_result"
    }
   ],
   "source": [
    "dh = dg.resample(\"Y\").max() \n",
    "#other options\n",
    "#.mean() \n",
    "#resample('10Y').agg('count')\n",
    "\n",
    "print(dh.shape)\n",
    "dh.head(3)"
   ]
  },
  {
   "cell_type": "code",
   "execution_count": 77,
   "id": "0e3c1690-57aa-44af-9509-453064ef21fc",
   "metadata": {},
   "outputs": [
    {
     "data": {
      "image/png": "[encoded data removed]",
      "text/plain": [
       "<Figure size 432x288 with 1 Axes>"
      ]
     },
     "metadata": {
      "needs_background": "light"
     },
     "output_type": "display_data"
    }
   ],
   "source": [
    "ax = dh.plot()\n",
    "ax.set_title('df Zeitreihen')\n",
    "ax.set_xlabel('Zeit');\n"
   ]
  },
  {
   "cell_type": "markdown",
   "id": "9a6a8e98-4ff1-468d-8baa-b4f96f06344f",
   "metadata": {},
   "source": [
    "Beobachungen:\n",
    "\n",
    "* Datum wird als englische Eingabe (*July*) erwartet. Andere Sprachen sind ebenfalls möglich, abhängig von globaler Einstellung.\n",
    "* Das Resamplen über ein Jahr mittelt über die Zeit. Eine höhere Zeitauflösung -- genauer Tag der Veranstaltung -- geht dabei verloren.\n",
    "* dataframe.plot() erzeugt für jede Spalte zusammen mit dem Index eine Zeitreihe.\n",
    "\n",
    "\n",
    "Fehlende Werte werden mit *NaN* ausgegeben. In vielen Fällen ist die Aussage richtig, erschwert aber Berechunungen wie Mittelwert oder Fehlerbreite.\n",
    "\n"
   ]
  },
  {
   "cell_type": "code",
   "execution_count": 78,
   "id": "bd803bb2-62c0-44a2-b7e9-866718fa1d0f",
   "metadata": {},
   "outputs": [
    {
     "data": {
      "text/html": [
       "<div>\n",
       "<style scoped>\n",
       "    .dataframe tbody tr th:only-of-type {\n",
       "        vertical-align: middle;\n",
       "    }\n",
       "\n",
       "    .dataframe tbody tr th {\n",
       "        vertical-align: top;\n",
       "    }\n",
       "\n",
       "    .dataframe thead th {\n",
       "        text-align: right;\n",
       "    }\n",
       "</style>\n",
       "<table border=\"1\" class=\"dataframe\">\n",
       "  <thead>\n",
       "    <tr style=\"text-align: right;\">\n",
       "      <th></th>\n",
       "      <th>Bands</th>\n",
       "      <th>Teilnehmer</th>\n",
       "      <th>zahlende Besucher</th>\n",
       "      <th>Preis (EUR)</th>\n",
       "      <th>Ausverkauft (Tage)</th>\n",
       "    </tr>\n",
       "    <tr>\n",
       "      <th>Date2</th>\n",
       "      <th></th>\n",
       "      <th></th>\n",
       "      <th></th>\n",
       "      <th></th>\n",
       "      <th></th>\n",
       "    </tr>\n",
       "  </thead>\n",
       "  <tbody>\n",
       "    <tr>\n",
       "      <th>1990-12-31</th>\n",
       "      <td>6</td>\n",
       "      <td>800</td>\n",
       "      <td>0.0</td>\n",
       "      <td>6.14</td>\n",
       "      <td>0.0</td>\n",
       "    </tr>\n",
       "    <tr>\n",
       "      <th>1991-12-31</th>\n",
       "      <td>7</td>\n",
       "      <td>1300</td>\n",
       "      <td>0.0</td>\n",
       "      <td>7.67</td>\n",
       "      <td>0.0</td>\n",
       "    </tr>\n",
       "    <tr>\n",
       "      <th>1992-12-31</th>\n",
       "      <td>26</td>\n",
       "      <td>3500</td>\n",
       "      <td>0.0</td>\n",
       "      <td>17.90</td>\n",
       "      <td>0.0</td>\n",
       "    </tr>\n",
       "    <tr>\n",
       "      <th>1993-12-31</th>\n",
       "      <td>32</td>\n",
       "      <td>3500</td>\n",
       "      <td>0.0</td>\n",
       "      <td>23.01</td>\n",
       "      <td>0.0</td>\n",
       "    </tr>\n",
       "    <tr>\n",
       "      <th>1994-12-31</th>\n",
       "      <td>29</td>\n",
       "      <td>4500</td>\n",
       "      <td>0.0</td>\n",
       "      <td>19.94</td>\n",
       "      <td>0.0</td>\n",
       "    </tr>\n",
       "  </tbody>\n",
       "</table>\n",
       "</div>"
      ],
      "text/plain": [
       "            Bands  Teilnehmer  zahlende Besucher  Preis (EUR)  \\\n",
       "Date2                                                           \n",
       "1990-12-31      6         800                0.0         6.14   \n",
       "1991-12-31      7        1300                0.0         7.67   \n",
       "1992-12-31     26        3500                0.0        17.90   \n",
       "1993-12-31     32        3500                0.0        23.01   \n",
       "1994-12-31     29        4500                0.0        19.94   \n",
       "\n",
       "            Ausverkauft (Tage)  \n",
       "Date2                           \n",
       "1990-12-31                 0.0  \n",
       "1991-12-31                 0.0  \n",
       "1992-12-31                 0.0  \n",
       "1993-12-31                 0.0  \n",
       "1994-12-31                 0.0  "
      ]
     },
     "execution_count": 78,
     "metadata": {},
     "output_type": "execute_result"
    }
   ],
   "source": [
    "df = dh.copy()\n",
    "dh.replace(np.nan,0)\n",
    "dh.replace(np.nan,0, inplace = True)\n",
    "dh.head()\n"
   ]
  },
  {
   "cell_type": "code",
   "execution_count": 79,
   "id": "e30cf584-8b10-4dfa-b0a5-0b49478bc8bf",
   "metadata": {},
   "outputs": [
    {
     "name": "stdout",
     "output_type": "stream",
     "text": [
      "(33, 5) (11, 5)\n"
     ]
    }
   ],
   "source": [
    "df = df.dropna()   # or: df.dropna(inplace = True)\n",
    "df = df.dropna()     # any: if at leas one rowel == nana\n",
    "df = df.dropna(how='all') # if all rowel == nan\n",
    "df = df.dropna(thresh=3)  # if at least 3 rowel == nan\n",
    "df = df.dropna(subset=['zahlende Besucher']) # check only columx\n",
    "print(dh.shape, df.shape)"
   ]
  },
  {
   "cell_type": "code",
   "execution_count": 80,
   "id": "80c472f7-8aa1-4532-b593-b86e44a4745f",
   "metadata": {},
   "outputs": [
    {
     "data": {
      "text/plain": [
       "<AxesSubplot: xlabel='Date2'>"
      ]
     },
     "execution_count": 80,
     "metadata": {},
     "output_type": "execute_result"
    },
    {
     "data": {
      "image/png": "[encoded data removed]",
      "text/plain": [
       "<Figure size 432x288 with 1 Axes>"
      ]
     },
     "metadata": {
      "needs_background": "light"
     },
     "output_type": "display_data"
    }
   ],
   "source": [
    "dh[['Bands', 'Preis (EUR)']].plot()"
   ]
  },
  {
   "cell_type": "code",
   "execution_count": 81,
   "id": "60da7d03-6716-4135-9431-b884870c377e",
   "metadata": {},
   "outputs": [
    {
     "data": {
      "text/plain": [
       "array([[<AxesSubplot: title={'center': 'Bands'}>,\n",
       "        <AxesSubplot: title={'center': 'Teilnehmer'}>],\n",
       "       [<AxesSubplot: title={'center': 'zahlende Besucher'}>,\n",
       "        <AxesSubplot: title={'center': 'Preis (EUR)'}>],\n",
       "       [<AxesSubplot: title={'center': 'Ausverkauft (Tage)'}>,\n",
       "        <AxesSubplot: >]], dtype=object)"
      ]
     },
     "execution_count": 81,
     "metadata": {},
     "output_type": "execute_result"
    },
    {
     "data": {
      "image/png": "[encoded data removed]",
      "text/plain": [
       "<Figure size 432x288 with 6 Axes>"
      ]
     },
     "metadata": {
      "needs_background": "light"
     },
     "output_type": "display_data"
    }
   ],
   "source": [
    "dh.hist()\n",
    "#plt.show()"
   ]
  },
  {
   "cell_type": "code",
   "execution_count": null,
   "id": "ad589102-e15f-459d-9338-810414a47e92",
   "metadata": {},
   "outputs": [],
   "source": []
  },
  {
   "cell_type": "markdown",
   "id": "7ad2a113-aa43-4155-a507-b9d23a4ff824",
   "metadata": {},
   "source": [
    "## Date format\n",
    "\n",
    "https://www.programiz.com/python-programming/datetime/strftime"
   ]
  },
  {
   "cell_type": "markdown",
   "id": "42e1748e-312d-43c1-a81f-27641c0fc850",
   "metadata": {},
   "source": [
    "~~~\n",
    "Code \tExample \tDescription\n",
    "0 \t%a \tSun \tWeekday as locale’s abbreviated name.\n",
    "1 \t%A \tSunday \tWeekday as locale’s full name.\n",
    "2 \t%w \t0 \tWeekday as a decimal number, where 0 is Sunday...\n",
    "3 \t%d \t08 \tDay of the month as a zero-padded decimal number.\n",
    "4 \t%-d \t8 \tDay of the month as a decimal number. (Platfor...\n",
    "5 \t%b \tSep \tMonth as locale’s abbreviated name.\n",
    "6 \t%B \tSeptember \tMonth as locale’s full name.\n",
    "7 \t%m \t09 \tMonth as a zero-padded decimal number.\n",
    "8 \t%-m \t9 \tMonth as a decimal number. (Platform specific)\n",
    "9 \t%y \t13 \tYear without century as a zero-padded decimal ...\n",
    "10 \t%Y \t2013 \tYear with century as a decimal number.\n",
    "11 \t%H \t07 \tHour (24-hour clock) as a zero-padded decimal ...\n",
    "12 \t%-H \t7 \tHour (24-hour clock) as a decimal number. (Pla...\n",
    "13 \t%I \t07 \tHour (12-hour clock) as a zero-padded decimal ...\n",
    "14 \t%-I \t7 \tHour (12-hour clock) as a decimal number. (Pla...\n",
    "15 \t%p \tAM \tLocale’s equivalent of either AM or PM.\n",
    "16 \t%M \t06 \tMinute as a zero-padded decimal number.\n",
    "17 \t%-M \t6 \tMinute as a decimal number. (Platform specific)\n",
    "18 \t%S \t05 \tSecond as a zero-padded decimal number.\n",
    "19 \t%-S \t5 \tSecond as a decimal number. (Platform specific)\n",
    "20 \t%f \t000000 \tMicrosecond as a decimal number, zero-padded t...\n",
    "21 \t%z \t+0000 \tUTC offset in the form ±HHMM[SS[.ffffff]] (emp...\n",
    "22 \t%Z \tUTC \tTime zone name (empty string if the object is ...\n",
    "23 \t%j \t251 \tDay of the year as a zero-padded decimal number.\n",
    "24 \t%-j \t251 \tDay of the year as a decimal number. (Platform...\n",
    "25 \t%U \t36 \tWeek number of the year (Sunday as the first d...\n",
    "26 \t%-U \t36 \tWeek number of the year (Sunday as the first d...\n",
    "27 \t%W \t35 \tWeek number of the year (Monday as the first d...\n",
    "28 \t%-W \t35 \tWeek number of the year (Monday as the first d...\n",
    "29 \t%c \tSun Sep 8 07:06:05 2013 \tLocale’s appropriate date and time representat...\n",
    "30 \t%x \t09/08/13 \tLocale’s appropriate date representation.\n",
    "31 \t%X \t07:06:05 \tLocale’s appropriate time representation.\n",
    "32 \t%% \t% \tA literal '%' character.\n",
    "~~~"
   ]
  },
  {
   "cell_type": "code",
   "execution_count": null,
   "id": "1b5a880d-cdd4-49c5-b3dd-4ac1114400d1",
   "metadata": {},
   "outputs": [],
   "source": []
  },
  {
   "cell_type": "code",
   "execution_count": null,
   "id": "df0f9e44-6562-419f-9bb9-e996bdce7013",
   "metadata": {},
   "outputs": [],
   "source": []
  }
 ],
 "metadata": {
  "kernelspec": {
   "display_name": "Python 3 (ipykernel)",
   "language": "python",
   "name": "python3"
  },
  "language_info": {
   "codemirror_mode": {
    "name": "ipython",
    "version": 3
   },
   "file_extension": ".py",
   "mimetype": "text/x-python",
   "name": "python",
   "nbconvert_exporter": "python",
   "pygments_lexer": "ipython3",
   "version": "3.10.12"
  }
 },
 "nbformat": 4,
 "nbformat_minor": 5
}
