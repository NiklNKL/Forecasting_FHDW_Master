{
 "cells": [
  {
   "cell_type": "markdown",
   "id": "fe17b040-640c-474e-bfd6-413dbeb28abd",
   "metadata": {},
   "source": [
    "# Verarbeiten großer Dateien\n",
    "\n",
    "Groß ist relativ:\n",
    "\n",
    "1. richtig groß: Datensatz ist so groß, dass er nicht mehr in den Auslagerungsspeicher passt. Die Dateien liegen verteilt auf Systemen vor.\n",
    "2. sehr groß: Datensatz passt in den Auslagerungsspeicher (Festplatte), nicht aber in den Arbeitsspeicher des Rechners.\n",
    "3. groß: Datensatz passt in den Arbeitsspeicher\n",
    "4. klein: Datensatz belegt nur einen kleinen Teil des Arbeitsspeichers.\n",
    "\n",
    "Die Python-Bibliothek *Pandas* beherrscht 4) und 3), sofern man Wartezeiten in Kauf nimmt. Alternativen sind *Dask* oder *Vaex*. Auch sie können nicht zaubern und brauchen Anweisungen, welche Ausschnitte des Datensatzes im Arbeitsspeicher verrechnet werden sollen. *Modin* unterstützt bei der Parallelisierung, wenn beispielsweise mehrere Rechenkerne zur Verfügung stehen.\n",
    "\n",
    "Entsprechend dem *Map-Reduce* Prinzip kann auch Pandas große Datensätze verarbeiten, indem es Ausschnitte nacheinander läd.\n",
    "\n",
    "Dazu ein Beispiel. \n",
    "\n",
    "Die Demodaten liegen als komprimierte Zip-Datei vor. Nur sie muss in den Auslagerungsspeicher passen, nicht aber die entpackte Datei."
   ]
  },
  {
   "cell_type": "code",
   "execution_count": 3,
   "id": "6538a857-e99b-4c85-b468-522e2b5edd1b",
   "metadata": {},
   "outputs": [],
   "source": [
    "import numpy as np\n",
    "import pandas as pd\n",
    "import matplotlib.pyplot as plt\n",
    "\n",
    "fn = 'data/city_temperature.zip'\n"
   ]
  },
  {
   "cell_type": "markdown",
   "id": "a56b7342-0955-435b-87b9-60dda0a97273",
   "metadata": {},
   "source": [
    "Der Zusatz `chunksize` legt die Größe des Datenpakets fest, die Pandas einlesen soll. Zurückgegeben wird ein Generatorobjekt "
   ]
  },
  {
   "cell_type": "code",
   "execution_count": 4,
   "id": "b611b8c5-fcff-4e0b-a0e5-bbe973c23829",
   "metadata": {},
   "outputs": [
    {
     "data": {
      "text/plain": [
       "pandas.io.parsers.readers.TextFileReader"
      ]
     },
     "execution_count": 4,
     "metadata": {},
     "output_type": "execute_result"
    }
   ],
   "source": [
    "chunksize = 10000\n",
    "\n",
    "dfi = pd.read_csv(fn, dtype={'State':object}, compression='zip',  chunksize=chunksize)\n",
    "\n",
    "type(dfi)\n"
   ]
  },
  {
   "cell_type": "code",
   "execution_count": 5,
   "id": "9db19e22-eb02-45b7-845c-16306850e6e9",
   "metadata": {},
   "outputs": [
    {
     "name": "stdout",
     "output_type": "stream",
     "text": [
      "type:  <class 'pandas.io.parsers.readers.TextFileReader'>\n",
      "Number of chunks:  291 ; size (except last one):  10000\n"
     ]
    }
   ],
   "source": [
    "print('type: ', type(dfi))\n",
    "\n",
    "counter = 0\n",
    "for chunk in dfi:\n",
    "    counter +=1\n",
    "\n",
    "print('Number of chunks: ', counter, '; size (except last one): ', chunksize)"
   ]
  },
  {
   "cell_type": "markdown",
   "id": "865a2812-8543-424a-8ca8-22abb5e8efc5",
   "metadata": {},
   "source": [
    "\n",
    "&nbsp;\n",
    "\n",
    "Hier soll untersucht werden, wie die Datei aufgebaut ist. Dazu werden die ersten Zeilen (`head()`) des ersten Chunk ausgegeben. \n",
    "\n",
    "Anschließend werden alle unterschiedlichen kategoralen Werte in den Spalten 0, 1 und 3 gesucht und als Zwischenergebnis zusammengeführt. Da sich die Chunks nicht an logische Grenzen der Dateistruktur halten, wird das Zwischenergebnis erneut auf Einzigartigkeit hin untersucht.\n",
    "\n",
    "Aus dem Ergebnis-Dataframe werden die Länder pro Kontinent und alle Städte in Deutschland ausgegeben.\n"
   ]
  },
  {
   "cell_type": "code",
   "execution_count": 6,
   "id": "cdedf5ad-b82c-4791-b231-9f9ef45fe5a9",
   "metadata": {},
   "outputs": [
    {
     "data": {
      "text/html": [
       "<div>\n",
       "<style scoped>\n",
       "    .dataframe tbody tr th:only-of-type {\n",
       "        vertical-align: middle;\n",
       "    }\n",
       "\n",
       "    .dataframe tbody tr th {\n",
       "        vertical-align: top;\n",
       "    }\n",
       "\n",
       "    .dataframe thead th {\n",
       "        text-align: right;\n",
       "    }\n",
       "</style>\n",
       "<table border=\"1\" class=\"dataframe\">\n",
       "  <thead>\n",
       "    <tr style=\"text-align: right;\">\n",
       "      <th></th>\n",
       "      <th>Region</th>\n",
       "      <th>Country</th>\n",
       "      <th>State</th>\n",
       "      <th>City</th>\n",
       "      <th>Month</th>\n",
       "      <th>Day</th>\n",
       "      <th>Year</th>\n",
       "      <th>AvgTemperature</th>\n",
       "    </tr>\n",
       "  </thead>\n",
       "  <tbody>\n",
       "    <tr>\n",
       "      <th>0</th>\n",
       "      <td>Africa</td>\n",
       "      <td>Algeria</td>\n",
       "      <td>NaN</td>\n",
       "      <td>Algiers</td>\n",
       "      <td>1</td>\n",
       "      <td>1</td>\n",
       "      <td>1995</td>\n",
       "      <td>64.2</td>\n",
       "    </tr>\n",
       "    <tr>\n",
       "      <th>1</th>\n",
       "      <td>Africa</td>\n",
       "      <td>Algeria</td>\n",
       "      <td>NaN</td>\n",
       "      <td>Algiers</td>\n",
       "      <td>1</td>\n",
       "      <td>2</td>\n",
       "      <td>1995</td>\n",
       "      <td>49.4</td>\n",
       "    </tr>\n",
       "    <tr>\n",
       "      <th>2</th>\n",
       "      <td>Africa</td>\n",
       "      <td>Algeria</td>\n",
       "      <td>NaN</td>\n",
       "      <td>Algiers</td>\n",
       "      <td>1</td>\n",
       "      <td>3</td>\n",
       "      <td>1995</td>\n",
       "      <td>48.8</td>\n",
       "    </tr>\n",
       "    <tr>\n",
       "      <th>3</th>\n",
       "      <td>Africa</td>\n",
       "      <td>Algeria</td>\n",
       "      <td>NaN</td>\n",
       "      <td>Algiers</td>\n",
       "      <td>1</td>\n",
       "      <td>4</td>\n",
       "      <td>1995</td>\n",
       "      <td>46.4</td>\n",
       "    </tr>\n",
       "    <tr>\n",
       "      <th>4</th>\n",
       "      <td>Africa</td>\n",
       "      <td>Algeria</td>\n",
       "      <td>NaN</td>\n",
       "      <td>Algiers</td>\n",
       "      <td>1</td>\n",
       "      <td>5</td>\n",
       "      <td>1995</td>\n",
       "      <td>47.9</td>\n",
       "    </tr>\n",
       "  </tbody>\n",
       "</table>\n",
       "</div>"
      ],
      "text/plain": [
       "   Region  Country State     City  Month  Day  Year  AvgTemperature\n",
       "0  Africa  Algeria   NaN  Algiers      1    1  1995            64.2\n",
       "1  Africa  Algeria   NaN  Algiers      1    2  1995            49.4\n",
       "2  Africa  Algeria   NaN  Algiers      1    3  1995            48.8\n",
       "3  Africa  Algeria   NaN  Algiers      1    4  1995            46.4\n",
       "4  Africa  Algeria   NaN  Algiers      1    5  1995            47.9"
      ]
     },
     "metadata": {},
     "output_type": "display_data"
    },
    {
     "name": "stdout",
     "output_type": "stream",
     "text": [
      "Region\n",
      "Africa                               [Algeria, Burundi, Benin, Central African Repu...\n",
      "Asia                                 [Bangladesh, China, China, China, China, China...\n",
      "Australia/South Pacific              [Australia, Australia, Australia, Australia, A...\n",
      "Europe                               [Albania, Austria, Belarus, Belgium, Bulgaria,...\n",
      "Middle East                          [Bahrain, Israel, Jordan, Kuwait, Lebanon, Oma...\n",
      "North America                        [Canada, Canada, Canada, Canada, Canada, Canad...\n",
      "South/Central America & Carribean    [Argentina, Bahamas, Bermuda, Belize, Bolivia,...\n",
      "Name: Country, dtype: object\n"
     ]
    },
    {
     "data": {
      "text/plain": [
       "['Bonn', 'Frankfurt', 'Hamburg', 'Munich']"
      ]
     },
     "execution_count": 6,
     "metadata": {},
     "output_type": "execute_result"
    }
   ],
   "source": [
    "dfi = pd.read_csv(fn, dtype={'State':object}, compression='zip',  chunksize=10000)\n",
    "\n",
    "first_el=True\n",
    "\n",
    "dunique = pd.DataFrame()\n",
    "for chunk in dfi:\n",
    "    if first_el:\n",
    "        display(chunk.head())\n",
    "        first_el=False\n",
    "    #\"map\"\n",
    "    chunk = chunk.iloc[:, [0,1,3]]\n",
    "    #\"reduce\"\n",
    "    chunk = chunk[~chunk.duplicated()]\n",
    "    dunique = pd.concat([dunique, chunk], axis=0)\n",
    "    \n",
    "dunique = dunique[~dunique.duplicated()]\n",
    "print(dunique.groupby(['Region'])['Country'].apply(list))\n",
    "cities_list = dunique.groupby(['Country'])['City'].apply(list)\n",
    "cities_list['Germany']\n"
   ]
  },
  {
   "cell_type": "markdown",
   "id": "72afc703-b82f-41b4-bf33-d8af5ca70eef",
   "metadata": {},
   "source": [
    "&nbsp;\n",
    "\n",
    "Manchmal möchte man einen schnellen Blick auf die Datei werfen. Auch hier hilft `chunksize`:\n",
    "\n",
    "&nbsp;"
   ]
  },
  {
   "cell_type": "code",
   "execution_count": 7,
   "id": "0062fd16-ca49-4bfa-add5-ded8b6e40ba2",
   "metadata": {},
   "outputs": [
    {
     "name": "stdout",
     "output_type": "stream",
     "text": [
      "type:  <class 'pandas.io.parsers.readers.TextFileReader'>\n"
     ]
    },
    {
     "data": {
      "text/html": [
       "<div>\n",
       "<style scoped>\n",
       "    .dataframe tbody tr th:only-of-type {\n",
       "        vertical-align: middle;\n",
       "    }\n",
       "\n",
       "    .dataframe tbody tr th {\n",
       "        vertical-align: top;\n",
       "    }\n",
       "\n",
       "    .dataframe thead th {\n",
       "        text-align: right;\n",
       "    }\n",
       "</style>\n",
       "<table border=\"1\" class=\"dataframe\">\n",
       "  <thead>\n",
       "    <tr style=\"text-align: right;\">\n",
       "      <th></th>\n",
       "      <th>Region</th>\n",
       "      <th>Country</th>\n",
       "      <th>State</th>\n",
       "      <th>City</th>\n",
       "      <th>Month</th>\n",
       "      <th>Day</th>\n",
       "      <th>Year</th>\n",
       "      <th>AvgTemperature</th>\n",
       "    </tr>\n",
       "  </thead>\n",
       "  <tbody>\n",
       "    <tr>\n",
       "      <th>0</th>\n",
       "      <td>Africa</td>\n",
       "      <td>Algeria</td>\n",
       "      <td>NaN</td>\n",
       "      <td>Algiers</td>\n",
       "      <td>1</td>\n",
       "      <td>1</td>\n",
       "      <td>1995</td>\n",
       "      <td>64.2</td>\n",
       "    </tr>\n",
       "    <tr>\n",
       "      <th>1</th>\n",
       "      <td>Africa</td>\n",
       "      <td>Algeria</td>\n",
       "      <td>NaN</td>\n",
       "      <td>Algiers</td>\n",
       "      <td>1</td>\n",
       "      <td>2</td>\n",
       "      <td>1995</td>\n",
       "      <td>49.4</td>\n",
       "    </tr>\n",
       "    <tr>\n",
       "      <th>2</th>\n",
       "      <td>Africa</td>\n",
       "      <td>Algeria</td>\n",
       "      <td>NaN</td>\n",
       "      <td>Algiers</td>\n",
       "      <td>1</td>\n",
       "      <td>3</td>\n",
       "      <td>1995</td>\n",
       "      <td>48.8</td>\n",
       "    </tr>\n",
       "    <tr>\n",
       "      <th>3</th>\n",
       "      <td>Africa</td>\n",
       "      <td>Algeria</td>\n",
       "      <td>NaN</td>\n",
       "      <td>Algiers</td>\n",
       "      <td>1</td>\n",
       "      <td>4</td>\n",
       "      <td>1995</td>\n",
       "      <td>46.4</td>\n",
       "    </tr>\n",
       "    <tr>\n",
       "      <th>4</th>\n",
       "      <td>Africa</td>\n",
       "      <td>Algeria</td>\n",
       "      <td>NaN</td>\n",
       "      <td>Algiers</td>\n",
       "      <td>1</td>\n",
       "      <td>5</td>\n",
       "      <td>1995</td>\n",
       "      <td>47.9</td>\n",
       "    </tr>\n",
       "    <tr>\n",
       "      <th>5</th>\n",
       "      <td>Africa</td>\n",
       "      <td>Algeria</td>\n",
       "      <td>NaN</td>\n",
       "      <td>Algiers</td>\n",
       "      <td>1</td>\n",
       "      <td>6</td>\n",
       "      <td>1995</td>\n",
       "      <td>48.7</td>\n",
       "    </tr>\n",
       "  </tbody>\n",
       "</table>\n",
       "</div>"
      ],
      "text/plain": [
       "   Region  Country State     City  Month  Day  Year  AvgTemperature\n",
       "0  Africa  Algeria   NaN  Algiers      1    1  1995            64.2\n",
       "1  Africa  Algeria   NaN  Algiers      1    2  1995            49.4\n",
       "2  Africa  Algeria   NaN  Algiers      1    3  1995            48.8\n",
       "3  Africa  Algeria   NaN  Algiers      1    4  1995            46.4\n",
       "4  Africa  Algeria   NaN  Algiers      1    5  1995            47.9\n",
       "5  Africa  Algeria   NaN  Algiers      1    6  1995            48.7"
      ]
     },
     "metadata": {},
     "output_type": "display_data"
    },
    {
     "name": "stdout",
     "output_type": "stream",
     "text": [
      "Next block:\n"
     ]
    },
    {
     "data": {
      "text/html": [
       "<div>\n",
       "<style scoped>\n",
       "    .dataframe tbody tr th:only-of-type {\n",
       "        vertical-align: middle;\n",
       "    }\n",
       "\n",
       "    .dataframe tbody tr th {\n",
       "        vertical-align: top;\n",
       "    }\n",
       "\n",
       "    .dataframe thead th {\n",
       "        text-align: right;\n",
       "    }\n",
       "</style>\n",
       "<table border=\"1\" class=\"dataframe\">\n",
       "  <thead>\n",
       "    <tr style=\"text-align: right;\">\n",
       "      <th></th>\n",
       "      <th>Region</th>\n",
       "      <th>Country</th>\n",
       "      <th>State</th>\n",
       "      <th>City</th>\n",
       "      <th>Month</th>\n",
       "      <th>Day</th>\n",
       "      <th>Year</th>\n",
       "      <th>AvgTemperature</th>\n",
       "    </tr>\n",
       "  </thead>\n",
       "  <tbody>\n",
       "    <tr>\n",
       "      <th>6</th>\n",
       "      <td>Africa</td>\n",
       "      <td>Algeria</td>\n",
       "      <td>NaN</td>\n",
       "      <td>Algiers</td>\n",
       "      <td>1</td>\n",
       "      <td>7</td>\n",
       "      <td>1995</td>\n",
       "      <td>48.9</td>\n",
       "    </tr>\n",
       "    <tr>\n",
       "      <th>7</th>\n",
       "      <td>Africa</td>\n",
       "      <td>Algeria</td>\n",
       "      <td>NaN</td>\n",
       "      <td>Algiers</td>\n",
       "      <td>1</td>\n",
       "      <td>8</td>\n",
       "      <td>1995</td>\n",
       "      <td>49.1</td>\n",
       "    </tr>\n",
       "    <tr>\n",
       "      <th>8</th>\n",
       "      <td>Africa</td>\n",
       "      <td>Algeria</td>\n",
       "      <td>NaN</td>\n",
       "      <td>Algiers</td>\n",
       "      <td>1</td>\n",
       "      <td>9</td>\n",
       "      <td>1995</td>\n",
       "      <td>49.0</td>\n",
       "    </tr>\n",
       "    <tr>\n",
       "      <th>9</th>\n",
       "      <td>Africa</td>\n",
       "      <td>Algeria</td>\n",
       "      <td>NaN</td>\n",
       "      <td>Algiers</td>\n",
       "      <td>1</td>\n",
       "      <td>10</td>\n",
       "      <td>1995</td>\n",
       "      <td>51.9</td>\n",
       "    </tr>\n",
       "    <tr>\n",
       "      <th>10</th>\n",
       "      <td>Africa</td>\n",
       "      <td>Algeria</td>\n",
       "      <td>NaN</td>\n",
       "      <td>Algiers</td>\n",
       "      <td>1</td>\n",
       "      <td>11</td>\n",
       "      <td>1995</td>\n",
       "      <td>51.7</td>\n",
       "    </tr>\n",
       "    <tr>\n",
       "      <th>11</th>\n",
       "      <td>Africa</td>\n",
       "      <td>Algeria</td>\n",
       "      <td>NaN</td>\n",
       "      <td>Algiers</td>\n",
       "      <td>1</td>\n",
       "      <td>12</td>\n",
       "      <td>1995</td>\n",
       "      <td>51.3</td>\n",
       "    </tr>\n",
       "  </tbody>\n",
       "</table>\n",
       "</div>"
      ],
      "text/plain": [
       "    Region  Country State     City  Month  Day  Year  AvgTemperature\n",
       "6   Africa  Algeria   NaN  Algiers      1    7  1995            48.9\n",
       "7   Africa  Algeria   NaN  Algiers      1    8  1995            49.1\n",
       "8   Africa  Algeria   NaN  Algiers      1    9  1995            49.0\n",
       "9   Africa  Algeria   NaN  Algiers      1   10  1995            51.9\n",
       "10  Africa  Algeria   NaN  Algiers      1   11  1995            51.7\n",
       "11  Africa  Algeria   NaN  Algiers      1   12  1995            51.3"
      ]
     },
     "metadata": {},
     "output_type": "display_data"
    }
   ],
   "source": [
    "chunksize = 6\n",
    "\n",
    "dfi = pd.read_csv(fn, dtype={'State':object}, compression='zip',  chunksize=chunksize)\n",
    "print('type: ', type(dfi))\n",
    "display(next(dfi))\n",
    "\n",
    "print('Next block:')\n",
    "display(next(dfi))"
   ]
  },
  {
   "attachments": {
    "f9fd057e-3ffa-49b8-b08a-a84699a228d5.png": {
     "image/png": "[encoded data removed]"
    }
   },
   "cell_type": "markdown",
   "id": "c5f76321-c8de-4dc6-aa20-42030f5d65ed",
   "metadata": {},
   "source": [
    "## dask: Erweiterung von Pandas\n",
    "\n",
    "![image.png](attachment:f9fd057e-3ffa-49b8-b08a-a84699a228d5.png)\n",
    "\n",
    "Idee: Datensatz aufteilen in Chunks, die parallel verrechnet werden."
   ]
  },
  {
   "cell_type": "code",
   "execution_count": null,
   "id": "0ce563a6-09dc-41a2-9ed9-8b928995dfa4",
   "metadata": {},
   "outputs": [],
   "source": []
  }
 ],
 "metadata": {
  "kernelspec": {
   "display_name": "Python 3 (ipykernel)",
   "language": "python",
   "name": "python3"
  },
  "language_info": {
   "codemirror_mode": {
    "name": "ipython",
    "version": 3
   },
   "file_extension": ".py",
   "mimetype": "text/x-python",
   "name": "python",
   "nbconvert_exporter": "python",
   "pygments_lexer": "ipython3",
   "version": "3.10.4"
  }
 },
 "nbformat": 4,
 "nbformat_minor": 5
}
